{
 "cells": [
  {
   "cell_type": "markdown",
   "metadata": {},
   "source": [
    "# NumPy Practice\n",
    "\n",
    "This notebook offers a set of excercises for different tasks with NumPy.\n",
    "\n",
    "It should be noted there may be more than one different way to answer a question or complete an exercise.\n",
    "\n",
    "Exercises are based off (and directly taken from) the quick introduction to NumPy notebook.\n",
    "\n",
    "Different tasks will be detailed by comments or text.\n",
    "\n",
    "For further reference and resources, it's advised to check out the [NumPy documentation](https://numpy.org/devdocs/user/index.html).\n",
    "\n",
    "And if you get stuck, try searching for a question in the following format: \"how to do XYZ with numpy\", where XYZ is the function you want to leverage from NumPy."
   ]
  },
  {
   "cell_type": "code",
   "execution_count": 21,
   "metadata": {},
   "outputs": [],
   "source": [
    "# Import NumPy as its abbreviation 'np'\n",
    "import numpy as np"
   ]
  },
  {
   "cell_type": "code",
   "execution_count": 22,
   "metadata": {},
   "outputs": [
    {
     "data": {
      "text/plain": [
       "(array([4, 5, 6]),\n",
       " array([[4, 5, 6],\n",
       "        [7, 8, 9]]),\n",
       " array([[ 4,  5,  6],\n",
       "        [ 7,  8,  9],\n",
       "        [10, 11, 12]]))"
      ]
     },
     "execution_count": 22,
     "metadata": {},
     "output_type": "execute_result"
    }
   ],
   "source": [
    "# Create a 1-dimensional NumPy array using np.array()\n",
    "a1 = np.array([4,5,6])\n",
    "\n",
    "# Create a 2-dimensional NumPy array using np.array()\n",
    "a2 = np.array([[4,5,6],\n",
    "          [7,8,9]])\n",
    "\n",
    "# Create a 3-dimensional Numpy array using np.array()\n",
    "a3 = np.array([[4,5,6],\n",
    "          [7,8,9],\n",
    "          [10,11,12]])\n",
    "a1, a2, a3"
   ]
  },
  {
   "cell_type": "markdown",
   "metadata": {},
   "source": [
    "Now we've you've created 3 different arrays, let's find details about them.\n",
    "\n",
    "Find the shape, number of dimensions, data type, size and type of each array."
   ]
  },
  {
   "cell_type": "code",
   "execution_count": 6,
   "metadata": {},
   "outputs": [
    {
     "data": {
      "text/plain": [
       "((3,), 1, dtype('int64'), 3, numpy.ndarray)"
      ]
     },
     "execution_count": 6,
     "metadata": {},
     "output_type": "execute_result"
    }
   ],
   "source": [
    "# Attributes of 1-dimensional array (shape, \n",
    "# number of dimensions, data type, size and type)\n",
    "a1.shape, a1.ndim, a1.dtype, a1.size, type(a1)"
   ]
  },
  {
   "cell_type": "code",
   "execution_count": 7,
   "metadata": {},
   "outputs": [
    {
     "data": {
      "text/plain": [
       "((2, 3), 2, dtype('int64'), 6, numpy.ndarray)"
      ]
     },
     "execution_count": 7,
     "metadata": {},
     "output_type": "execute_result"
    }
   ],
   "source": [
    "# Attributes of 2-dimensional array\n",
    "a2.shape, a2.ndim, a2.dtype, a2.size, type(a2)"
   ]
  },
  {
   "cell_type": "code",
   "execution_count": 8,
   "metadata": {},
   "outputs": [
    {
     "data": {
      "text/plain": [
       "((3, 3), 2, dtype('int64'), 9, numpy.ndarray)"
      ]
     },
     "execution_count": 8,
     "metadata": {},
     "output_type": "execute_result"
    }
   ],
   "source": [
    "# Attributes of 3-dimensional array\n",
    "a3.shape, a3.ndim, a3.dtype, a3.size, type(a3)"
   ]
  },
  {
   "cell_type": "code",
   "execution_count": 9,
   "metadata": {},
   "outputs": [
    {
     "data": {
      "text/html": [
       "<div>\n",
       "<style scoped>\n",
       "    .dataframe tbody tr th:only-of-type {\n",
       "        vertical-align: middle;\n",
       "    }\n",
       "\n",
       "    .dataframe tbody tr th {\n",
       "        vertical-align: top;\n",
       "    }\n",
       "\n",
       "    .dataframe thead th {\n",
       "        text-align: right;\n",
       "    }\n",
       "</style>\n",
       "<table border=\"1\" class=\"dataframe\">\n",
       "  <thead>\n",
       "    <tr style=\"text-align: right;\">\n",
       "      <th></th>\n",
       "      <th>0</th>\n",
       "      <th>1</th>\n",
       "      <th>2</th>\n",
       "    </tr>\n",
       "  </thead>\n",
       "  <tbody>\n",
       "    <tr>\n",
       "      <th>0</th>\n",
       "      <td>4</td>\n",
       "      <td>5</td>\n",
       "      <td>6</td>\n",
       "    </tr>\n",
       "    <tr>\n",
       "      <th>1</th>\n",
       "      <td>7</td>\n",
       "      <td>8</td>\n",
       "      <td>9</td>\n",
       "    </tr>\n",
       "    <tr>\n",
       "      <th>2</th>\n",
       "      <td>10</td>\n",
       "      <td>11</td>\n",
       "      <td>12</td>\n",
       "    </tr>\n",
       "  </tbody>\n",
       "</table>\n",
       "</div>"
      ],
      "text/plain": [
       "    0   1   2\n",
       "0   4   5   6\n",
       "1   7   8   9\n",
       "2  10  11  12"
      ]
     },
     "execution_count": 9,
     "metadata": {},
     "output_type": "execute_result"
    }
   ],
   "source": [
    "# Import pandas and create a DataFrame out of one\n",
    "# of the arrays you've created\n",
    "import pandas as pd\n",
    "df1 = pd.DataFrame(a3)\n",
    "df1"
   ]
  },
  {
   "cell_type": "code",
   "execution_count": 11,
   "metadata": {},
   "outputs": [
    {
     "data": {
      "text/plain": [
       "array([[1., 1.],\n",
       "       [1., 1.],\n",
       "       [1., 1.],\n",
       "       [1., 1.],\n",
       "       [1., 1.],\n",
       "       [1., 1.],\n",
       "       [1., 1.],\n",
       "       [1., 1.],\n",
       "       [1., 1.],\n",
       "       [1., 1.]])"
      ]
     },
     "execution_count": 11,
     "metadata": {},
     "output_type": "execute_result"
    }
   ],
   "source": [
    "# Create an array of shape (10, 2) with only ones\n",
    "ones = np.ones((10, 2))\n",
    "ones"
   ]
  },
  {
   "cell_type": "code",
   "execution_count": 12,
   "metadata": {},
   "outputs": [
    {
     "data": {
      "text/plain": [
       "array([[[0., 0., 0.],\n",
       "        [0., 0., 0.]],\n",
       "\n",
       "       [[0., 0., 0.],\n",
       "        [0., 0., 0.]],\n",
       "\n",
       "       [[0., 0., 0.],\n",
       "        [0., 0., 0.]],\n",
       "\n",
       "       [[0., 0., 0.],\n",
       "        [0., 0., 0.]],\n",
       "\n",
       "       [[0., 0., 0.],\n",
       "        [0., 0., 0.]],\n",
       "\n",
       "       [[0., 0., 0.],\n",
       "        [0., 0., 0.]],\n",
       "\n",
       "       [[0., 0., 0.],\n",
       "        [0., 0., 0.]]])"
      ]
     },
     "execution_count": 12,
     "metadata": {},
     "output_type": "execute_result"
    }
   ],
   "source": [
    "# Create an array of shape (7, 2, 3) of only zeros\n",
    "zero = np.zeros((7, 2, 3))\n",
    "zero"
   ]
  },
  {
   "cell_type": "code",
   "execution_count": 13,
   "metadata": {},
   "outputs": [
    {
     "data": {
      "text/plain": [
       "array([ 0,  3,  6,  9, 12, 15, 18, 21, 24, 27, 30, 33, 36, 39, 42, 45, 48,\n",
       "       51, 54, 57, 60, 63, 66, 69, 72, 75, 78, 81, 84, 87, 90, 93, 96, 99])"
      ]
     },
     "execution_count": 13,
     "metadata": {},
     "output_type": "execute_result"
    }
   ],
   "source": [
    "# Create an array within a range of 0 and 100 with step 3\n",
    "r1 = np.arange(0, 100, 3)\n",
    "r1"
   ]
  },
  {
   "cell_type": "code",
   "execution_count": 14,
   "metadata": {},
   "outputs": [
    {
     "data": {
      "text/plain": [
       "array([[2, 1],\n",
       "       [2, 2],\n",
       "       [8, 0],\n",
       "       [0, 1],\n",
       "       [6, 4],\n",
       "       [5, 4],\n",
       "       [2, 5]])"
      ]
     },
     "execution_count": 14,
     "metadata": {},
     "output_type": "execute_result"
    }
   ],
   "source": [
    "# Create a random array with numbers between 0 and 10 of size (7, 2)\n",
    "a4 = np.random.randint(10, size=(7, 2))\n",
    "a4"
   ]
  },
  {
   "cell_type": "code",
   "execution_count": 15,
   "metadata": {},
   "outputs": [
    {
     "data": {
      "text/plain": [
       "array([[0.90907431, 0.61454963, 0.08406651, 0.90680183, 0.49966934],\n",
       "       [0.00763665, 0.52862009, 0.70104938, 0.02099166, 0.06728869],\n",
       "       [0.04178572, 0.18309078, 0.6863887 , 0.49397696, 0.04868649]])"
      ]
     },
     "execution_count": 15,
     "metadata": {},
     "output_type": "execute_result"
    }
   ],
   "source": [
    "# Create a random array of floats between 0 & 1 of shape (3, 5)\n",
    "a5 = np.random.random_sample(size=(3, 5))\n",
    "a5"
   ]
  },
  {
   "cell_type": "code",
   "execution_count": 23,
   "metadata": {},
   "outputs": [
    {
     "data": {
      "text/plain": [
       "array([[6, 3, 7, 4, 6, 9],\n",
       "       [2, 6, 7, 4, 3, 7],\n",
       "       [7, 2, 5, 4, 1, 7],\n",
       "       [5, 1, 4, 0, 9, 5]])"
      ]
     },
     "execution_count": 23,
     "metadata": {},
     "output_type": "execute_result"
    }
   ],
   "source": [
    "# Set the random seed to 42\n",
    "np.random.seed(42)\n",
    "\n",
    "# Create a random array of numbers between 0 & 10 of size (4, 6)\n",
    "np.random.randint(10, size=(4,6))"
   ]
  },
  {
   "cell_type": "markdown",
   "metadata": {},
   "source": [
    "Run the cell above again, what happens?\n",
    "\n",
    "Are the numbers in the array different or the same? Why do think this is?\n",
    "\n",
    "(pseudo-)random numbers work by starting with a number (the seed), multiplying it by a large number, adding an offset, then taking modulo of that sum. The resulting number is then used as the seed to generate the next \"random\" number. When you set the seed (every time), it does the same thing every time, giving you the same numbers."
   ]
  },
  {
   "cell_type": "code",
   "execution_count": 29,
   "metadata": {},
   "outputs": [
    {
     "data": {
      "text/plain": [
       "array([0, 1, 2, 3, 4, 5, 6, 8, 9])"
      ]
     },
     "execution_count": 29,
     "metadata": {},
     "output_type": "execute_result"
    }
   ],
   "source": [
    "# Create an array of random numbers between 1 & 10 of size (3, 7)\n",
    "# and save it to a variable\n",
    "rand1 = np.random.randint(10,size=(3,7))\n",
    "rand1\n",
    "\n",
    "# Find the unique numbers in the array you just created\n",
    "un = np.unique(rand1)\n",
    "un"
   ]
  },
  {
   "cell_type": "code",
   "execution_count": 34,
   "metadata": {},
   "outputs": [
    {
     "data": {
      "text/plain": [
       "array([6, 3, 6, 2, 5, 1, 9])"
      ]
     },
     "execution_count": 34,
     "metadata": {},
     "output_type": "execute_result"
    }
   ],
   "source": [
    "# Find the 0'th index of the latest array you created\n",
    "rand1[0]"
   ]
  },
  {
   "cell_type": "code",
   "execution_count": 35,
   "metadata": {},
   "outputs": [
    {
     "data": {
      "text/plain": [
       "array([[6, 3, 6, 2, 5, 1, 9],\n",
       "       [8, 4, 5, 3, 9, 6, 8]])"
      ]
     },
     "execution_count": 35,
     "metadata": {},
     "output_type": "execute_result"
    }
   ],
   "source": [
    "# Get the first 2 rows of latest array you created\n",
    "rand1[0:2]"
   ]
  },
  {
   "cell_type": "code",
   "execution_count": 70,
   "metadata": {},
   "outputs": [
    {
     "data": {
      "text/plain": [
       "array([[6, 3, 6, 2, 5, 1, 9],\n",
       "       [8, 4, 5, 3, 9, 6, 8]])"
      ]
     },
     "execution_count": 70,
     "metadata": {},
     "output_type": "execute_result"
    }
   ],
   "source": [
    "# Get the first 2 rows of latest array you created\n",
    "rand1[:2]"
   ]
  },
  {
   "cell_type": "code",
   "execution_count": 71,
   "metadata": {},
   "outputs": [
    {
     "data": {
      "text/plain": [
       "array([[6, 3],\n",
       "       [8, 4]])"
      ]
     },
     "execution_count": 71,
     "metadata": {},
     "output_type": "execute_result"
    }
   ],
   "source": [
    "# Get the first 2 values of the first 2 rows of the latest array\n",
    "rand1[:2, :2]"
   ]
  },
  {
   "cell_type": "code",
   "execution_count": 72,
   "metadata": {},
   "outputs": [],
   "source": [
    "# Create a random array of numbers between 0 & 10 and an array of ones\n",
    "# both of size (3, 5), save them both to variables\n",
    "rand2 = np.random.randint(10, size=(3, 5))\n",
    "one2 = np.ones((3, 5))"
   ]
  },
  {
   "cell_type": "code",
   "execution_count": 75,
   "metadata": {},
   "outputs": [
    {
     "data": {
      "text/plain": [
       "array([[ 3.,  7.,  6.,  8.,  9.],\n",
       "       [ 5.,  1.,  3., 10.,  8.],\n",
       "       [ 6.,  8.,  9.,  4.,  1.]])"
      ]
     },
     "execution_count": 75,
     "metadata": {},
     "output_type": "execute_result"
    }
   ],
   "source": [
    "# Add the two arrays together\n",
    "res = one2 + rand2\n",
    "res"
   ]
  },
  {
   "cell_type": "code",
   "execution_count": 74,
   "metadata": {},
   "outputs": [
    {
     "data": {
      "text/plain": [
       "array([[1., 1., 1.],\n",
       "       [1., 1., 1.],\n",
       "       [1., 1., 1.],\n",
       "       [1., 1., 1.],\n",
       "       [1., 1., 1.]])"
      ]
     },
     "execution_count": 74,
     "metadata": {},
     "output_type": "execute_result"
    }
   ],
   "source": [
    "# Create another array of ones of shape (5, 3)\n",
    "a6 = np.ones((5, 3))\n",
    "a6"
   ]
  },
  {
   "cell_type": "code",
   "execution_count": 80,
   "metadata": {},
   "outputs": [
    {
     "data": {
      "text/plain": [
       "array([[ 4.,  8.,  7.,  9., 10.],\n",
       "       [ 6.,  2.,  4., 11.,  9.],\n",
       "       [ 7.,  9., 10.,  5.,  2.]])"
      ]
     },
     "execution_count": 80,
     "metadata": {},
     "output_type": "execute_result"
    }
   ],
   "source": [
    "# Try add the array of ones and the other most recent array together\n",
    "res2 = res + a6.T\n",
    "res2"
   ]
  },
  {
   "cell_type": "markdown",
   "metadata": {},
   "source": [
    "When you try the last cell, it produces an error. Why do think this is?\n",
    "\n",
    "How would you fix it?"
   ]
  },
  {
   "cell_type": "code",
   "execution_count": 77,
   "metadata": {},
   "outputs": [
    {
     "data": {
      "text/plain": [
       "array([[1., 1., 1., 1., 1.],\n",
       "       [1., 1., 1., 1., 1.],\n",
       "       [1., 1., 1., 1., 1.]])"
      ]
     },
     "execution_count": 77,
     "metadata": {},
     "output_type": "execute_result"
    }
   ],
   "source": [
    "# Create another array of ones of shape (3, 5)\n",
    "one3 = np.ones((3, 5))\n",
    "one3"
   ]
  },
  {
   "cell_type": "code",
   "execution_count": 81,
   "metadata": {},
   "outputs": [
    {
     "data": {
      "text/plain": [
       "array([[ 3.,  7.,  6.,  8.,  9.],\n",
       "       [ 5.,  1.,  3., 10.,  8.],\n",
       "       [ 6.,  8.,  9.,  4.,  1.]])"
      ]
     },
     "execution_count": 81,
     "metadata": {},
     "output_type": "execute_result"
    }
   ],
   "source": [
    "# Subtract the new array of ones from the other most recent array\n",
    "res2 - one3"
   ]
  },
  {
   "cell_type": "code",
   "execution_count": 83,
   "metadata": {},
   "outputs": [
    {
     "data": {
      "text/plain": [
       "array([[ 4.,  8.,  7.,  9., 10.],\n",
       "       [ 6.,  2.,  4., 11.,  9.],\n",
       "       [ 7.,  9., 10.,  5.,  2.]])"
      ]
     },
     "execution_count": 83,
     "metadata": {},
     "output_type": "execute_result"
    }
   ],
   "source": [
    "# Multiply the ones array with the latest array\n",
    "res3 = res2 * one3\n",
    "res3"
   ]
  },
  {
   "cell_type": "code",
   "execution_count": 91,
   "metadata": {},
   "outputs": [
    {
     "data": {
      "text/plain": [
       "array([[ 16.,  64.,  49.,  81., 100.],\n",
       "       [ 36.,   4.,  16., 121.,  81.],\n",
       "       [ 49.,  81., 100.,  25.,   4.]])"
      ]
     },
     "execution_count": 91,
     "metadata": {},
     "output_type": "execute_result"
    }
   ],
   "source": [
    "# Take the latest array to the power of 2 using '**'\n",
    "res3**2"
   ]
  },
  {
   "cell_type": "code",
   "execution_count": 92,
   "metadata": {},
   "outputs": [
    {
     "data": {
      "text/plain": [
       "array([[ 16.,  64.,  49.,  81., 100.],\n",
       "       [ 36.,   4.,  16., 121.,  81.],\n",
       "       [ 49.,  81., 100.,  25.,   4.]])"
      ]
     },
     "execution_count": 92,
     "metadata": {},
     "output_type": "execute_result"
    }
   ],
   "source": [
    "# Do the same thing with np.square()\n",
    "np.square(res3)"
   ]
  },
  {
   "cell_type": "code",
   "execution_count": 93,
   "metadata": {},
   "outputs": [
    {
     "data": {
      "text/plain": [
       "6.866666666666666"
      ]
     },
     "execution_count": 93,
     "metadata": {},
     "output_type": "execute_result"
    }
   ],
   "source": [
    "# Find the mean of the latest array using np.mean()\n",
    "np.mean(res3)"
   ]
  },
  {
   "cell_type": "code",
   "execution_count": 94,
   "metadata": {},
   "outputs": [
    {
     "data": {
      "text/plain": [
       "11.0"
      ]
     },
     "execution_count": 94,
     "metadata": {},
     "output_type": "execute_result"
    }
   ],
   "source": [
    "# Find the maximum of the latest array using np.max()\n",
    "np.max(res3)"
   ]
  },
  {
   "cell_type": "code",
   "execution_count": 95,
   "metadata": {},
   "outputs": [
    {
     "data": {
      "text/plain": [
       "2.0"
      ]
     },
     "execution_count": 95,
     "metadata": {},
     "output_type": "execute_result"
    }
   ],
   "source": [
    "# Find the minimum of the latest array using np.min()\n",
    "np.min(res3)"
   ]
  },
  {
   "cell_type": "code",
   "execution_count": 96,
   "metadata": {},
   "outputs": [
    {
     "data": {
      "text/plain": [
       "2.825282680055612"
      ]
     },
     "execution_count": 96,
     "metadata": {},
     "output_type": "execute_result"
    }
   ],
   "source": [
    "# Find the standard deviation of the latest array\n",
    "np.std(res3)"
   ]
  },
  {
   "cell_type": "code",
   "execution_count": 97,
   "metadata": {},
   "outputs": [
    {
     "data": {
      "text/plain": [
       "7.982222222222221"
      ]
     },
     "execution_count": 97,
     "metadata": {},
     "output_type": "execute_result"
    }
   ],
   "source": [
    "# Find the variance of the latest array\n",
    "np.var(res3)"
   ]
  },
  {
   "cell_type": "code",
   "execution_count": 98,
   "metadata": {},
   "outputs": [
    {
     "data": {
      "text/plain": [
       "array([[[ 4.],\n",
       "        [ 8.],\n",
       "        [ 7.],\n",
       "        [ 9.],\n",
       "        [10.]],\n",
       "\n",
       "       [[ 6.],\n",
       "        [ 2.],\n",
       "        [ 4.],\n",
       "        [11.],\n",
       "        [ 9.]],\n",
       "\n",
       "       [[ 7.],\n",
       "        [ 9.],\n",
       "        [10.],\n",
       "        [ 5.],\n",
       "        [ 2.]]])"
      ]
     },
     "execution_count": 98,
     "metadata": {},
     "output_type": "execute_result"
    }
   ],
   "source": [
    "# Reshape the latest array to (3, 5, 1)\n",
    "rest = res3.reshape((3,5,1))\n",
    "rest"
   ]
  },
  {
   "cell_type": "code",
   "execution_count": 99,
   "metadata": {},
   "outputs": [
    {
     "data": {
      "text/plain": [
       "array([[[ 4.,  6.,  7.],\n",
       "        [ 8.,  2.,  9.],\n",
       "        [ 7.,  4., 10.],\n",
       "        [ 9., 11.,  5.],\n",
       "        [10.,  9.,  2.]]])"
      ]
     },
     "execution_count": 99,
     "metadata": {},
     "output_type": "execute_result"
    }
   ],
   "source": [
    "# Transpose the latest array\n",
    "rest.T"
   ]
  },
  {
   "cell_type": "markdown",
   "metadata": {},
   "source": [
    "What does the transpose do?\n",
    "\n",
    "Transpose permutates/rearranges the array"
   ]
  },
  {
   "cell_type": "code",
   "execution_count": 108,
   "metadata": {},
   "outputs": [
    {
     "data": {
      "text/plain": [
       "(array([[7, 4, 3],\n",
       "        [1, 5, 5],\n",
       "        [0, 8, 5]]),\n",
       " array([[2, 3],\n",
       "        [3, 2],\n",
       "        [9, 2]]))"
      ]
     },
     "execution_count": 108,
     "metadata": {},
     "output_type": "execute_result"
    }
   ],
   "source": [
    "# Create two arrays of random integers between 0 to 10\n",
    "# one of size (3, 3) the other of size (3, 2)\n",
    "arr1 = np.random.randint(10, size=(3, 3))\n",
    "arr2 = np.random.randint(10, size=(3, 2))\n",
    "arr1, arr2"
   ]
  },
  {
   "cell_type": "code",
   "execution_count": 111,
   "metadata": {},
   "outputs": [
    {
     "data": {
      "text/plain": [
       "array([[53, 35],\n",
       "       [62, 23],\n",
       "       [69, 26]])"
      ]
     },
     "execution_count": 111,
     "metadata": {},
     "output_type": "execute_result"
    }
   ],
   "source": [
    "# Perform a dot product on the two newest arrays you created\n",
    "arr1.dot(arr2)"
   ]
  },
  {
   "cell_type": "code",
   "execution_count": 112,
   "metadata": {},
   "outputs": [
    {
     "data": {
      "text/plain": [
       "(array([[2, 3, 6],\n",
       "        [3, 8, 0],\n",
       "        [7, 6, 1],\n",
       "        [7, 0, 8]]),\n",
       " array([[8, 1, 6],\n",
       "        [9, 2, 6],\n",
       "        [9, 8, 3],\n",
       "        [0, 1, 0]]))"
      ]
     },
     "execution_count": 112,
     "metadata": {},
     "output_type": "execute_result"
    }
   ],
   "source": [
    "# Create two arrays of random integers between 0 to 10\n",
    "# both of size (4, 3)\n",
    "arr3 = np.random.randint(10, size=(4, 3))\n",
    "arr4 = np.random.randint(10, size=(4, 3))\n",
    "arr3, arr4"
   ]
  },
  {
   "cell_type": "code",
   "execution_count": 114,
   "metadata": {},
   "outputs": [
    {
     "ename": "ValueError",
     "evalue": "shapes (4,3) and (4,3) not aligned: 3 (dim 1) != 4 (dim 0)",
     "output_type": "error",
     "traceback": [
      "\u001b[0;31m---------------------------------------------------------------------------\u001b[0m",
      "\u001b[0;31mValueError\u001b[0m                                Traceback (most recent call last)",
      "\u001b[0;32m<ipython-input-114-d81b169da61b>\u001b[0m in \u001b[0;36m<module>\u001b[0;34m\u001b[0m\n\u001b[1;32m      1\u001b[0m \u001b[0;31m# Perform a dot product on the two newest arrays you created\u001b[0m\u001b[0;34m\u001b[0m\u001b[0;34m\u001b[0m\u001b[0;34m\u001b[0m\u001b[0m\n\u001b[0;32m----> 2\u001b[0;31m \u001b[0marr3\u001b[0m\u001b[0;34m.\u001b[0m\u001b[0mdot\u001b[0m\u001b[0;34m(\u001b[0m\u001b[0marr4\u001b[0m\u001b[0;34m)\u001b[0m\u001b[0;34m\u001b[0m\u001b[0;34m\u001b[0m\u001b[0m\n\u001b[0m",
      "\u001b[0;31mValueError\u001b[0m: shapes (4,3) and (4,3) not aligned: 3 (dim 1) != 4 (dim 0)"
     ]
    }
   ],
   "source": [
    "# Perform a dot product on the two newest arrays you created\n",
    "arr3.dot(arr4)"
   ]
  },
  {
   "cell_type": "markdown",
   "metadata": {},
   "source": [
    "It doesn't work. How would you fix it?"
   ]
  },
  {
   "cell_type": "code",
   "execution_count": 115,
   "metadata": {},
   "outputs": [
    {
     "data": {
      "text/plain": [
       "array([[ 55,  60,  60,   3],\n",
       "       [ 32,  43,  91,   8],\n",
       "       [ 68,  81, 114,   6],\n",
       "       [104, 111,  87,   0]])"
      ]
     },
     "execution_count": 115,
     "metadata": {},
     "output_type": "execute_result"
    }
   ],
   "source": [
    "# Take the latest two arrays, perform a transpose on one of them and then perform \n",
    "# a dot product on them both\n",
    "arr3.dot(arr4.T)"
   ]
  },
  {
   "cell_type": "markdown",
   "metadata": {},
   "source": [
    "Notice how performing a transpose allows the dot product to happen.\n",
    "\n",
    "Why is this?\n",
    "\n",
    "Checking out the documentation on [`np.dot()`](https://docs.scipy.org/doc/numpy/reference/generated/numpy.dot.html) may help, as well as reading [Math is Fun's guide on the dot product](https://www.mathsisfun.com/algebra/vectors-dot-product.html).\n",
    "\n",
    "Let's now compare arrays."
   ]
  },
  {
   "cell_type": "code",
   "execution_count": 117,
   "metadata": {},
   "outputs": [
    {
     "data": {
      "text/plain": [
       "(array([[8, 1, 1, 1],\n",
       "        [5, 2, 8, 3],\n",
       "        [0, 3, 0, 4]]),\n",
       " array([[3, 7, 7, 6],\n",
       "        [2, 0, 0, 2],\n",
       "        [5, 6, 5, 5]]))"
      ]
     },
     "execution_count": 117,
     "metadata": {},
     "output_type": "execute_result"
    }
   ],
   "source": [
    "# Create two arrays of random integers between 0 & 10 of the same shape\n",
    "# and save them to variables\n",
    "ar1 = np.random.randint(10, size=(3, 4))\n",
    "ar2 = np.random.randint(10, size=(3, 4))\n",
    "ar1, ar2"
   ]
  },
  {
   "cell_type": "code",
   "execution_count": 118,
   "metadata": {},
   "outputs": [
    {
     "data": {
      "text/plain": [
       "array([[ True, False, False, False],\n",
       "       [ True,  True,  True,  True],\n",
       "       [False, False, False, False]])"
      ]
     },
     "execution_count": 118,
     "metadata": {},
     "output_type": "execute_result"
    }
   ],
   "source": [
    "# Compare the two arrays with '>'\n",
    "ar1 > ar2"
   ]
  },
  {
   "cell_type": "markdown",
   "metadata": {},
   "source": [
    "What happens when you compare the arrays with `>`?\n",
    "\n",
    "It returns boolean values"
   ]
  },
  {
   "cell_type": "code",
   "execution_count": 119,
   "metadata": {},
   "outputs": [
    {
     "data": {
      "text/plain": [
       "array([[ True, False, False, False],\n",
       "       [ True,  True,  True,  True],\n",
       "       [False, False, False, False]])"
      ]
     },
     "execution_count": 119,
     "metadata": {},
     "output_type": "execute_result"
    }
   ],
   "source": [
    "# Compare the two arrays with '>='\n",
    "ar1 >= ar2"
   ]
  },
  {
   "cell_type": "code",
   "execution_count": 120,
   "metadata": {},
   "outputs": [
    {
     "data": {
      "text/plain": [
       "array([[ True, False, False, False],\n",
       "       [False, False,  True, False],\n",
       "       [False, False, False, False]])"
      ]
     },
     "execution_count": 120,
     "metadata": {},
     "output_type": "execute_result"
    }
   ],
   "source": [
    "# Find which elements of the first array are greater than 7\n",
    "ar1 > 7"
   ]
  },
  {
   "cell_type": "code",
   "execution_count": 126,
   "metadata": {},
   "outputs": [
    {
     "data": {
      "text/plain": [
       "array([[False, False, False, False],\n",
       "       [False, False, False, False],\n",
       "       [False, False, False, False]])"
      ]
     },
     "execution_count": 126,
     "metadata": {},
     "output_type": "execute_result"
    }
   ],
   "source": [
    "# Which parts of each array are equal? (try using '==')\n",
    "ar1 == ar2"
   ]
  },
  {
   "cell_type": "code",
   "execution_count": 132,
   "metadata": {},
   "outputs": [
    {
     "data": {
      "text/plain": [
       "array([[1, 1, 1, 8],\n",
       "       [2, 3, 5, 8],\n",
       "       [0, 0, 3, 4]])"
      ]
     },
     "execution_count": 132,
     "metadata": {},
     "output_type": "execute_result"
    }
   ],
   "source": [
    "ar1"
   ]
  },
  {
   "cell_type": "code",
   "execution_count": 129,
   "metadata": {},
   "outputs": [
    {
     "data": {
      "text/plain": [
       "array([[1, 1, 1, 8],\n",
       "       [2, 3, 5, 8],\n",
       "       [0, 0, 3, 4]])"
      ]
     },
     "execution_count": 129,
     "metadata": {},
     "output_type": "execute_result"
    }
   ],
   "source": [
    "# Sort one of the arrays you just created in ascending order\n",
    "np.sort(ar1)"
   ]
  },
  {
   "cell_type": "code",
   "execution_count": 131,
   "metadata": {},
   "outputs": [
    {
     "data": {
      "text/plain": [
       "array([[1, 1, 1, 8],\n",
       "       [2, 3, 5, 8],\n",
       "       [0, 0, 3, 4]])"
      ]
     },
     "execution_count": 131,
     "metadata": {},
     "output_type": "execute_result"
    }
   ],
   "source": [
    "ar1"
   ]
  },
  {
   "cell_type": "code",
   "execution_count": 134,
   "metadata": {},
   "outputs": [
    {
     "data": {
      "text/plain": [
       "array([[3, 7, 7, 6],\n",
       "       [2, 0, 0, 2],\n",
       "       [5, 6, 5, 5]])"
      ]
     },
     "execution_count": 134,
     "metadata": {},
     "output_type": "execute_result"
    }
   ],
   "source": [
    "ar2"
   ]
  },
  {
   "cell_type": "code",
   "execution_count": 133,
   "metadata": {},
   "outputs": [
    {
     "data": {
      "text/plain": [
       "array([[0, 3, 1, 2],\n",
       "       [1, 2, 0, 3],\n",
       "       [0, 2, 3, 1]])"
      ]
     },
     "execution_count": 133,
     "metadata": {},
     "output_type": "execute_result"
    }
   ],
   "source": [
    "# Sort the indexes of one of the arrays you just created\n",
    "np.argsort(ar2)"
   ]
  },
  {
   "cell_type": "code",
   "execution_count": 135,
   "metadata": {},
   "outputs": [
    {
     "data": {
      "text/plain": [
       "1"
      ]
     },
     "execution_count": 135,
     "metadata": {},
     "output_type": "execute_result"
    }
   ],
   "source": [
    "# Find the index with the maximum value in one of the arrays you've created\n",
    "np.argmax(ar2)"
   ]
  },
  {
   "cell_type": "code",
   "execution_count": 136,
   "metadata": {},
   "outputs": [
    {
     "data": {
      "text/plain": [
       "5"
      ]
     },
     "execution_count": 136,
     "metadata": {},
     "output_type": "execute_result"
    }
   ],
   "source": [
    "# Find the index with the minimum value in one of the arrays you've created\n",
    "np.argmin(ar2)"
   ]
  },
  {
   "cell_type": "code",
   "execution_count": 137,
   "metadata": {},
   "outputs": [
    {
     "data": {
      "text/plain": [
       "array([1, 0, 1])"
      ]
     },
     "execution_count": 137,
     "metadata": {},
     "output_type": "execute_result"
    }
   ],
   "source": [
    "# Find the indexes with the maximum values down the 1st axis (axis=1)\n",
    "# of one of the arrays you created\n",
    "np.argmax(ar2, axis=1)"
   ]
  },
  {
   "cell_type": "code",
   "execution_count": 138,
   "metadata": {},
   "outputs": [
    {
     "data": {
      "text/plain": [
       "array([1, 1, 1, 1])"
      ]
     },
     "execution_count": 138,
     "metadata": {},
     "output_type": "execute_result"
    }
   ],
   "source": [
    "# Find the indexes with the minimum values across the 0th axis (axis=0)\n",
    "# of one of the arrays you created\n",
    "np.argmin(ar2, axis=0)"
   ]
  },
  {
   "cell_type": "code",
   "execution_count": 139,
   "metadata": {},
   "outputs": [
    {
     "data": {
      "text/plain": [
       "array([ 7.97139138,  9.03338522,  7.64775361, 10.18040465, 11.25086287,\n",
       "        4.64119059, 10.12530146,  8.98584988,  7.98826001,  4.07297004,\n",
       "       11.69962194,  8.9919357 ,  3.54187234,  7.39216385,  8.81805847,\n",
       "        9.26643825,  7.68098801,  8.85397701, 13.29721553, 11.86634189,\n",
       "        5.62620239,  6.50775667,  7.72199   ,  3.62732641,  4.64649126,\n",
       "        3.94576345,  5.13070007, 11.47400707,  5.8618987 ,  5.4323456 ,\n",
       "       10.20709415,  6.87673903,  9.04659867,  6.17955188,  3.49528008,\n",
       "        9.16929269,  4.12141514,  6.72376695,  6.16762216,  8.48836618,\n",
       "        6.61013776,  7.68066293,  4.09860732, 13.00087022,  4.99967066,\n",
       "       11.00345111,  8.37458429,  8.35226842,  8.88604896,  3.29921853,\n",
       "       10.41598   ,  6.72263883, 11.02599658,  7.62191009,  7.0636961 ,\n",
       "        4.77195972,  6.08622659,  9.0557844 ,  4.73021425,  3.02350113,\n",
       "        5.85612779, 10.10001344, 12.45322769,  6.30646083,  4.1279283 ,\n",
       "        7.14217734,  8.45963879,  9.44474284, 13.33660312,  8.56712205,\n",
       "       12.13865406,  6.84268644,  8.21641454,  6.51779317,  6.29998916,\n",
       "        7.34148539,  7.29836281,  6.4900602 ,  6.62686773, 10.74199064,\n",
       "       13.28278039,  6.75398344,  7.18901138,  9.3115225 , 15.96758335,\n",
       "        8.2104088 , 10.43158217, 11.8611871 ,  8.86017033, 10.31558136,\n",
       "        9.51959635, 10.58128198,  5.41399411,  8.51070736,  9.20304432,\n",
       "        9.16764293, 10.84254355,  9.11722536,  5.1376287 ,  9.47829029,\n",
       "        5.79230335,  6.25155488,  6.9537278 ,  7.72145306,  4.14068649,\n",
       "       10.7922336 ,  5.11121022, 11.92527656,  5.18762066, 11.20480095,\n",
       "        7.92894636,  3.70893889,  5.39259652, 11.31617917,  9.12162169,\n",
       "        7.80317079,  2.45809736, 11.47391585, 12.67605974, 12.22004258,\n",
       "        6.46188696,  8.95699867,  9.23035258,  4.18136844,  8.45123126,\n",
       "       10.67760381,  9.91119559,  5.22209047,  5.8434622 ,  9.97648497,\n",
       "        9.58213109,  2.3646033 ,  1.85851714,  7.80866985,  6.52586786,\n",
       "        7.25424694,  6.97177352, 10.46005886,  8.25892021,  8.66909004,\n",
       "        4.64421793, -0.41023882, 10.80885445, 13.35801297,  7.14352783,\n",
       "        8.62328635,  8.81129579, 12.18823312, 10.22246074,  9.24016058,\n",
       "        8.13893039,  8.1505823 ,  4.40134601,  7.04128118, 10.21550492,\n",
       "        7.41574205,  8.11087639,  5.05968131,  9.11376725,  4.34560836,\n",
       "        8.72470703,  7.53193761,  3.64178688, 10.67369488,  7.59033684,\n",
       "       12.65194514, 11.69563029,  5.8013304 ,  6.02070005,  5.07005786,\n",
       "        4.03384095,  6.94455706, 11.60936802,  3.21273158, 10.12986117,\n",
       "        9.92084864,  9.38673199,  9.83293341,  5.23944553,  9.9039296 ,\n",
       "        6.62685455,  1.85201659,  8.14353237,  5.88973067, 11.39704158,\n",
       "        7.28413371,  8.1140196 ,  8.97294894,  7.33149841,  7.74039721,\n",
       "       10.10893506,  5.3341963 ,  6.24546639,  5.58222236, 11.59188668,\n",
       "        6.24575006,  7.64179185,  6.4984883 ,  7.22955512,  6.15642633,\n",
       "        9.15681078,  5.39787462,  4.61887361,  6.60394908,  6.00441195,\n",
       "        4.65538794,  7.191568  ,  3.84970645, 12.31936907,  4.26849659,\n",
       "        6.38425125,  6.99111261, 12.21171241,  3.67421172,  8.35512523,\n",
       "       10.59289616,  7.22564224,  5.07545742,  7.73003759, 11.81775315,\n",
       "        6.46053539, 11.59045867,  8.64666728, 11.08128553,  8.54670773,\n",
       "        6.78906077, 12.09714997,  8.56308838,  8.41607384, 10.01888908,\n",
       "       10.31038096, 10.03214116,  4.62319512,  6.40691117,  6.35867762,\n",
       "        6.05229943,  5.81974059,  6.32244022,  8.83987186,  9.23602322,\n",
       "        7.99591008,  6.93491915, 11.18865812,  7.77108485, 10.3426813 ,\n",
       "        6.57668467,  9.034282  , 11.35522126,  1.47802998,  6.36228679,\n",
       "        9.48435544, 11.03203768,  8.50778387,  8.12393182, 12.02644616,\n",
       "       11.18498348,  5.82854516,  8.29102745,  8.90042251, 12.29649844,\n",
       "       10.16517629,  7.74105975,  8.55018582,  3.29029128, 10.42157121,\n",
       "        9.61433197, 11.03039108,  7.63987675,  8.32010267,  6.79665413,\n",
       "        5.12986273,  6.49435949,  3.45174888, 10.28651379,  2.56279374,\n",
       "       13.08035631,  3.58968275, 11.74972169,  5.72986489,  9.40258267,\n",
       "        6.11888325, 12.1843704 ,  8.10925667, 10.68420503,  8.1901201 ,\n",
       "        8.88239994,  9.54026664,  6.67819004,  4.79927218,  4.74599169,\n",
       "        8.12710642,  6.77839979,  2.6353581 ,  9.28235313,  4.9537759 ,\n",
       "        5.09918744,  7.89593491,  5.74971085,  8.30626375, 12.93365223,\n",
       "        7.05235588,  5.35105213,  8.45376744,  6.06192052,  8.0593787 ,\n",
       "        8.78908994,  7.91200765,  8.14139737,  8.48022595, 11.99278181,\n",
       "        7.36770174,  8.31858602, 10.16712266,  9.17759208,  7.104477  ,\n",
       "       10.25465859,  5.8218828 ,  7.43312643,  6.07228365,  9.4404365 ,\n",
       "       10.97399945,  8.5583404 ,  8.18816486,  5.81247833,  6.24362221,\n",
       "        5.01684971,  2.55829653,  7.022415  ,  7.25473683, 13.43210574,\n",
       "       11.90703392,  9.3891006 , 13.21119308, 11.47725874,  2.98107995,\n",
       "       10.66864043,  9.77863566,  7.27655513,  4.4619937 ,  9.48850284,\n",
       "        2.80218069,  7.94631259,  6.45727398,  4.8528949 , 10.97200252,\n",
       "        7.89672892,  8.43491582, 10.26967987,  7.97802361,  9.128528  ,\n",
       "       10.03962905,  9.41688982,  8.71495042, 12.45778209, 11.1049265 ,\n",
       "        7.78559208,  5.72576762,  9.59655912,  8.53965162, 12.27248916,\n",
       "       10.46873251,  9.91051097,  8.03237884,  5.81075315,  7.50509258,\n",
       "        9.19207024,  3.67604977, 11.1042849 , 13.16761   ,  3.13765177,\n",
       "        4.49946112,  8.57415616,  6.54354771,  8.65226608,  7.82081491,\n",
       "        5.4404537 , 11.22101585,  9.16129151,  6.60064506, 11.76256279,\n",
       "        6.72898511,  4.89539871,  8.45877956,  8.88289406,  9.32979223,\n",
       "        9.74087782,  9.29031182,  9.1887341 ,  6.5656155 ,  6.29813931,\n",
       "        9.85591229,  8.60864128, 10.05061435,  3.73180711,  6.74803404,\n",
       "       12.76754725,  9.38133288,  8.73887613,  9.76981092, 13.52112631,\n",
       "       12.99512386,  4.05119811,  4.9737471 ,  3.96647336,  6.13223028,\n",
       "        8.13729825,  8.60503786,  4.17380314,  3.33162043,  6.08802153,\n",
       "       10.29042816, 10.72590728, 12.26456215,  7.91917437, 10.07038373,\n",
       "       10.5247374 ,  6.75785242,  8.9696122 ,  9.64676281,  5.72710596,\n",
       "       12.10524043,  7.90296929,  8.21758807,  5.63164655,  6.05143451,\n",
       "        2.5087135 ,  8.13788969, 14.26422302,  5.45345138, 15.44049232,\n",
       "       11.53562816,  6.81602805,  8.06816176,  7.66224923, 12.26540993,\n",
       "        9.29253933, 10.95493512,  8.89542961,  7.7200687 ,  8.81605841,\n",
       "        6.98263942,  4.36948989, 10.03422144,  4.24708888,  7.32791456,\n",
       "        6.90033928,  9.60838483, 11.91176146, 11.01242662,  9.68106255,\n",
       "        6.42532089,  7.54132712,  7.17681573,  6.82429638,  6.99387223,\n",
       "        6.92715491,  6.81643452, 10.37970755,  5.36340778,  6.17631474,\n",
       "        4.0414832 , 11.53870701,  6.0087426 ,  9.65193808,  9.18829715,\n",
       "       11.29709655,  7.47495825,  5.63115053,  4.11062506,  1.03841089,\n",
       "        8.40338306,  9.93868143,  9.17922026,  4.17558924, 10.59706536,\n",
       "        6.25445993,  5.73274126,  6.19841941,  8.19602231,  4.28824607,\n",
       "        7.90741022,  9.07362061, 10.76830974,  8.43989164,  4.65092875,\n",
       "        8.37222557,  5.34935432,  5.20513711,  4.59324099,  3.2218658 ,\n",
       "        6.58209208, 10.82222186, 13.64121004,  6.5660371 , 10.71526382,\n",
       "        7.0135442 ,  3.8731607 ,  9.75235565,  8.58703522, 12.54504902])"
      ]
     },
     "execution_count": 139,
     "metadata": {},
     "output_type": "execute_result"
    }
   ],
   "source": [
    "# Create an array of normally distributed random numbers\n",
    "np.random.normal(8, 2.5, 500)"
   ]
  },
  {
   "cell_type": "code",
   "execution_count": 121,
   "metadata": {},
   "outputs": [
    {
     "data": {
      "text/plain": [
       "array([ 1, 11, 21, 31, 41, 51, 61, 71, 81, 91])"
      ]
     },
     "execution_count": 121,
     "metadata": {},
     "output_type": "execute_result"
    }
   ],
   "source": [
    "# Create an array with 10 evenly spaced numbers between 1 and 100\n",
    "np.arange(1, 100, 10)"
   ]
  },
  {
   "cell_type": "markdown",
   "metadata": {},
   "source": [
    "## Extensions\n",
    "\n",
    "For more exercises, check out the [NumPy quickstart tutorial](https://docs.scipy.org/doc/numpy-1.15.0/user/quickstart.html). A good practice would be to read through it and for the parts you find interesting, add them into the end of this notebook.\n",
    "\n",
    "Pay particular attention to the section on broadcasting. And most importantly, get hands-on with the code as much as possible. If in dobut, run the code, see what it does.\n",
    "\n",
    "The next place you could go is the [Stack Overflow page for the top questions and answers for NumPy](https://stackoverflow.com/questions/tagged/numpy?sort=MostVotes&edited=true). Often, you'll find some of the most common and useful NumPy functions here. Don't forget to play around with the filters! You'll likely find something helpful here.\n",
    "\n",
    "Finally, as always, remember, the best way to learn something new is to try it. And try it relentlessly. If you get interested in some kind of NumPy function, asking yourself, \"I wonder if NumPy could do that?\", go and find out."
   ]
  }
 ],
 "metadata": {
  "kernelspec": {
   "display_name": "Python 3",
   "language": "python",
   "name": "python3"
  },
  "language_info": {
   "codemirror_mode": {
    "name": "ipython",
    "version": 3
   },
   "file_extension": ".py",
   "mimetype": "text/x-python",
   "name": "python",
   "nbconvert_exporter": "python",
   "pygments_lexer": "ipython3",
   "version": "3.8.3"
  }
 },
 "nbformat": 4,
 "nbformat_minor": 2
}
